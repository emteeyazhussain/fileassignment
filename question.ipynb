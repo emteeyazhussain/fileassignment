{
 "cells": [
  {
   "cell_type": "code",
   "execution_count": 4,
   "metadata": {},
   "outputs": [],
   "source": [
    "# Q3. Write a python program to create a text file. Write ‘I want to become a Data Scientist’ in that file. Then \n",
    "# close the file. Open this file and read the content of the file.\n",
    "\n",
    "with open (\"text1.txt\", \"w\")  as f:\n",
    "   f.write(\"i want to become data scientist\")\n",
    "   f.close()"
   ]
  },
  {
   "cell_type": "code",
   "execution_count": 7,
   "metadata": {},
   "outputs": [
    {
     "name": "stdout",
     "output_type": "stream",
     "text": [
      "i want to become data scientist\n"
     ]
    }
   ],
   "source": [
    "with open (\"text1.txt\", \"r\")  as f:\n",
    "   c = f.read()\n",
    "   print(c)\n",
    "   f.close()"
   ]
  },
  {
   "cell_type": "code",
   "execution_count": 8,
   "metadata": {},
   "outputs": [],
   "source": [
    "# Q1. Which function is used to open a file? What are the different modes of opening a file? Explain each mode \n",
    "# of file opening.\n",
    "\n",
    "# ANswer: The fopen() function is used to open a file.\n",
    "\n",
    "# there are several different tyoes of modes in python like :\n",
    "# Read only('r')  \"this is used only Read the file\"\n",
    "\n",
    "# AND Read and Write('r++') \"this is ued to read and write the file\"\n",
    "\n",
    "# and Write only('w') \"this is used only to write the file\"\n",
    "\n",
    "# and write and read (\"w+\") \"this is used reading and writing the file\"\n",
    "\n",
    "# and AppendOnly('a') \"this is used to append only\"\n",
    "\n",
    "# and Append and read (\"a+\"). \"this is used to append and also read the file\"\n"
   ]
  },
  {
   "cell_type": "code",
   "execution_count": 9,
   "metadata": {},
   "outputs": [],
   "source": [
    "# Q2. Why close() function is used? Why is it important to close a file?\n",
    "\n",
    "# Answer: The close() function is used to close the file () and its most important because in some cases you,\n",
    "# due to buffering ,changes made a file may not until you close the file."
   ]
  },
  {
   "cell_type": "code",
   "execution_count": 15,
   "metadata": {},
   "outputs": [
    {
     "name": "stdout",
     "output_type": "stream",
     "text": [
      "['i want to become data scientist\\n', 'i want to become data scientist\\n', 'i want to become data scientist']\n"
     ]
    }
   ],
   "source": [
    "# 4. Explain the following with python code: read(), readline() and readlines().\n",
    "with open(\"text2.txt\") as f:\n",
    " c=   f.readlines()\n",
    " print(c)"
   ]
  },
  {
   "cell_type": "code",
   "execution_count": 17,
   "metadata": {},
   "outputs": [
    {
     "name": "stdout",
     "output_type": "stream",
     "text": [
      "i want to become data scientist\n",
      "i want to become data scientist\n",
      "i want to become data scientist\n"
     ]
    }
   ],
   "source": [
    "with open(\"text2.txt\") as f:\n",
    " c=   f.read()\n",
    " print(c)"
   ]
  },
  {
   "cell_type": "code",
   "execution_count": 19,
   "metadata": {},
   "outputs": [
    {
     "name": "stdout",
     "output_type": "stream",
     "text": [
      "i want to become data scientist\n",
      "\n"
     ]
    }
   ],
   "source": [
    "with open(\"text2.txt\") as f:\n",
    "#Readline will read and print only the first character\n",
    " c=   f.readline()\n",
    " print(c)"
   ]
  },
  {
   "cell_type": "code",
   "execution_count": 20,
   "metadata": {},
   "outputs": [],
   "source": [
    "# Q5. Explain why with statement is used with open(). What is the advantage of using with statement and \n",
    "# open() together?\n",
    "\n",
    "# Answr: Because in python with statement is ued in exception handling to make the code cleaner and much more \n",
    "# readable. \n",
    "\n",
    "# The advantage of wtih statement is use with open() is helps avoding bugs and leaks by ensuring that a Resource\n",
    "# is properly released with the code using the resouce completely executed."
   ]
  },
  {
   "cell_type": "code",
   "execution_count": 21,
   "metadata": {},
   "outputs": [
    {
     "name": "stdout",
     "output_type": "stream",
     "text": [
      "10\n"
     ]
    }
   ],
   "source": [
    "# Q6: Explain the write() and writelines() functions. Give a suitable example.\n",
    "\n",
    "# The difference btw Write and writelines is that the write() is used to write the string to already opened the file,\n",
    "# writelines() is used to write the list of strings in an opened file.\n",
    "\n",
    "with open(\"text3.txt\", \"w\") as f:\n",
    "#Readline will read and print only the first character\n",
    " c=   f.write(\"i am write\")\n",
    " print(c)"
   ]
  },
  {
   "cell_type": "code",
   "execution_count": 22,
   "metadata": {},
   "outputs": [
    {
     "name": "stdout",
     "output_type": "stream",
     "text": [
      "None\n"
     ]
    }
   ],
   "source": [
    "with open(\"text3.txt\", \"w\") as f:\n",
    "#Readline will read and print only the first character\n",
    " c=   f.writelines(\"i am writelines i am writelines i am writelines\")\n",
    " print(c)"
   ]
  },
  {
   "cell_type": "code",
   "execution_count": null,
   "metadata": {},
   "outputs": [],
   "source": []
  }
 ],
 "metadata": {
  "kernelspec": {
   "display_name": "Python 3",
   "language": "python",
   "name": "python3"
  },
  "language_info": {
   "codemirror_mode": {
    "name": "ipython",
    "version": 3
   },
   "file_extension": ".py",
   "mimetype": "text/x-python",
   "name": "python",
   "nbconvert_exporter": "python",
   "pygments_lexer": "ipython3",
   "version": "3.11.0"
  },
  "orig_nbformat": 4,
  "vscode": {
   "interpreter": {
    "hash": "c261aea317cc0286b3b3261fbba9abdec21eaa57589985bb7a274bf54d6cc0a7"
   }
  }
 },
 "nbformat": 4,
 "nbformat_minor": 2
}
